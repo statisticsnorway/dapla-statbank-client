{
 "cells": [
  {
   "cell_type": "markdown",
   "id": "bcc1eb65-8b44-46a2-9b0b-a0d6a360e167",
   "metadata": {
    "tags": []
   },
   "source": [
    "# Enkleste bruk av pakken med \"ferdig data\"\n",
    "\n",
    "Pass på at du har innstallert pakken i en \"kernel\" du kan bruke i notebooket"
   ]
  },
  {
   "cell_type": "code",
   "execution_count": null,
   "id": "6606ec68-0265-4253-9a58-31fdecf5653d",
   "metadata": {
    "tags": []
   },
   "outputs": [],
   "source": [
    "import pandas as pd\n",
    "\n",
    "from statbank import StatbankClient"
   ]
  },
  {
   "cell_type": "markdown",
   "id": "79da7f12-c21b-4450-90a6-5a30238d57ef",
   "metadata": {},
   "source": [
    "### Få tak i data\n",
    "Hovedtabell 07495 har to deltabeller, du har nok ikke tilgang på disse filene. \\\n",
    "Du bør finne egen data, kanskje fra fjoråret, og bruke seksjonens lastebruker osv. \\\n",
    "Endre koden til noe du kan teste med."
   ]
  },
  {
   "cell_type": "code",
   "execution_count": null,
   "id": "2b787de4-22b5-4cf2-af77-75ba915efe0a",
   "metadata": {
    "tags": []
   },
   "outputs": [],
   "source": [
    "df_07495_fylker = pd.read_parquet(\"07495_statbank_fylker.parquet\")\n",
    "df_07495_landet = pd.read_parquet(\"07495_statbank_landet.parquet\")"
   ]
  },
  {
   "cell_type": "markdown",
   "id": "d843bc4e-2703-4563-b539-4e7ca4e7b7c8",
   "metadata": {},
   "source": [
    "### Lag statbank-client\n",
    "Din lastebruker vil være anderledes"
   ]
  },
  {
   "cell_type": "code",
   "execution_count": null,
   "id": "e03529d8-b5a4-493c-87a9-5f7f7d00e1a6",
   "metadata": {
    "tags": []
   },
   "outputs": [],
   "source": [
    "client = StatbankClient()"
   ]
  },
  {
   "cell_type": "markdown",
   "id": "1e0e62dd-2427-4501-bf7a-c0f060c439f4",
   "metadata": {},
   "source": [
    "### Vi må vite hvilke deltabeller hver dataframe representerer\n",
    "Din hovedtabell har kanskje bare èn deltabell, men vi trenger fortsatt navnet på den."
   ]
  },
  {
   "cell_type": "code",
   "execution_count": null,
   "id": "53a6eca7-3f2f-417a-8386-c9958d0da1e9",
   "metadata": {
    "tags": []
   },
   "outputs": [],
   "source": [
    "data_07495 = {\"kargrs01fylker1.dat\": df_07495_fylker,\n",
    "              \"kargrs01landet1.dat\": df_07495_landet }"
   ]
  },
  {
   "cell_type": "markdown",
   "id": "462800de-3a8e-46d3-9e7e-84a27b9228f1",
   "metadata": {},
   "source": [
    "### Du kan validere rett på clienten?"
   ]
  },
  {
   "cell_type": "code",
   "execution_count": null,
   "id": "d15ca447-1dae-48e4-9fd6-457168cf3614",
   "metadata": {
    "tags": []
   },
   "outputs": [],
   "source": [
    "client.validate(data_07495, \"07495\")"
   ]
  },
  {
   "cell_type": "markdown",
   "id": "8550bf8c-c9f8-4c9e-a46b-40fa3a670387",
   "metadata": {
    "tags": []
   },
   "source": [
    "### Overfør data med .transfer()\n",
    "Om du har \"hovedtabellnavn\" istedenfor \"tabell-id\" så skal det i teorien fungere (kanskje også for interntabeller)"
   ]
  },
  {
   "cell_type": "code",
   "execution_count": null,
   "id": "c1492a81-2d1b-4947-a78e-749095e096a6",
   "metadata": {
    "tags": []
   },
   "outputs": [],
   "source": [
    "client.transfer(data_07495, \"07495\")"
   ]
  }
 ],
 "metadata": {
  "language_info": {
   "codemirror_mode": {
    "name": "ipython"
   },
   "file_extension": ".py",
   "mimetype": "text/x-python",
   "name": "python",
   "nbconvert_exporter": "python"
  }
 },
 "nbformat": 4,
 "nbformat_minor": 5
}
