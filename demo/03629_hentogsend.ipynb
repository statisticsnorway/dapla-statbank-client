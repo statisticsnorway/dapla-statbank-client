{
 "cells": [
  {
   "cell_type": "code",
   "execution_count": null,
   "id": "4badaf79-1952-473c-a2a9-736dca97ca5b",
   "metadata": {
    "tags": []
   },
   "outputs": [],
   "source": [
    "import dapla as dp\n",
    "import pandas as pd\n",
    "from statbank import StatbankClient\n",
    "\n",
    "fileclient = dp.FileClient()\n",
    "statclient = StatbankClient(\"LAST360\")"
   ]
  },
  {
   "cell_type": "code",
   "execution_count": null,
   "id": "a0f20bda-9075-4bfc-900a-fe7563dd8b0d",
   "metadata": {
    "tags": []
   },
   "outputs": [],
   "source": [
    "tableid = \"03629\""
   ]
  },
  {
   "cell_type": "code",
   "execution_count": null,
   "id": "287c811a-55bd-41c3-8dff-29532d08fcb3",
   "metadata": {
    "tags": []
   },
   "outputs": [],
   "source": [
    "df_stat = statclient.apidata(tableid, {\n",
    "  \"query\": [\n",
    "    {\n",
    "      \"code\": \"Tid\",\n",
    "      \"selection\": {\n",
    "        \"filter\": \"item\",\n",
    "        \"values\": [\n",
    "          \"2021\",\n",
    "        ],\n",
    "      },\n",
    "    },\n",
    "  ],\n",
    "  \"response\": {\n",
    "    \"format\": \"json-stat2\",\n",
    "  },\n",
    "}, include_id=True)"
   ]
  },
  {
   "cell_type": "code",
   "execution_count": null,
   "id": "1434632d-f901-4aec-8892-808198953c90",
   "metadata": {
    "tags": []
   },
   "outputs": [],
   "source": [
    "df_stat"
   ]
  },
  {
   "cell_type": "code",
   "execution_count": null,
   "id": "66132ddd-a0b4-4b83-87f4-3320029ed7d1",
   "metadata": {
    "tags": []
   },
   "outputs": [],
   "source": [
    "df_piv = df_stat.pivot_table(values=\"value\", index=\"år\", columns=\"ContentsCode\").astype(\"Int64\").reset_index()\n",
    "df_piv"
   ]
  },
  {
   "cell_type": "code",
   "execution_count": null,
   "id": "e53de2d5-d6f0-48b5-a105-8c418f5f76f4",
   "metadata": {
    "tags": []
   },
   "outputs": [],
   "source": [
    "df_piv.melt(id_vars=df_piv.columns[0])"
   ]
  },
  {
   "cell_type": "code",
   "execution_count": null,
   "id": "87c4a7ac-9f21-4053-a8a8-4c69737c9385",
   "metadata": {
    "tags": []
   },
   "outputs": [],
   "source": [
    "df = pd.DataFrame()\n",
    "df[\"tid\"] = df_piv[\"år\"]\n",
    "df[\"konfliktar\"] = df_piv[\"Konflikter\"]\n",
    "df[\"personar\"] = df_piv[\"Arbeidstakarar\"]\n",
    "df[\"dagar\"] = df_piv[\"TapteArbeidsdagar\"]\n",
    "df[\"prikk1\"] = None\n",
    "df[\"prikk2\"] = None\n",
    "df[\"prikk3\"] = None\n"
   ]
  },
  {
   "cell_type": "code",
   "execution_count": null,
   "id": "b68e7af3-741a-4ada-bbee-5e7c243a7cba",
   "metadata": {
    "tags": []
   },
   "outputs": [],
   "source": [
    "df"
   ]
  },
  {
   "cell_type": "code",
   "execution_count": null,
   "id": "479327f1-b017-4991-a8f4-420a7d80e7d1",
   "metadata": {
    "tags": []
   },
   "outputs": [],
   "source": [
    "df = df.fillna(\"\")"
   ]
  },
  {
   "cell_type": "code",
   "execution_count": null,
   "id": "062db185-394a-4e77-b518-161542d7e32e",
   "metadata": {
    "tags": []
   },
   "outputs": [],
   "source": [
    "desc = statclient.get_description(tableid)"
   ]
  },
  {
   "cell_type": "code",
   "execution_count": null,
   "id": "e408275f-937f-4917-a243-ecd15a630a68",
   "metadata": {
    "tags": []
   },
   "outputs": [],
   "source": [
    "data = desc.transferdata_template(df)"
   ]
  },
  {
   "cell_type": "code",
   "execution_count": null,
   "id": "04c5fc60-71d5-41a6-99cc-80de201305bd",
   "metadata": {
    "tags": []
   },
   "outputs": [],
   "source": [
    "desc.validate(data)"
   ]
  },
  {
   "cell_type": "code",
   "execution_count": null,
   "id": "5f879784-17ba-4ebd-be0d-7a49ab021ef3",
   "metadata": {
    "tags": []
   },
   "outputs": [],
   "source": [
    "desc.codelists"
   ]
  }
 ],
 "metadata": {
  "language_info": {
   "codemirror_mode": {
    "name": "ipython"
   },
   "file_extension": ".py",
   "mimetype": "text/x-python",
   "name": "python",
   "nbconvert_exporter": "python"
  }
 },
 "nbformat": 4,
 "nbformat_minor": 5
}
