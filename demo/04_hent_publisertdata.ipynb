{
 "cells": [
  {
   "cell_type": "code",
   "execution_count": null,
   "id": "6606ec68-0265-4253-9a58-31fdecf5653d",
   "metadata": {},
   "outputs": [],
   "source": [
    "from statbank import apidata\n",
    "from statbank import apidata_all"
   ]
  },
  {
   "cell_type": "code",
   "execution_count": null,
   "id": "56e9e348-cbdd-4646-8285-060b0dcc5373",
   "metadata": {
    "tags": []
   },
   "outputs": [],
   "source": [
    "karakterpoeng = apidata_all(\"07495\")\n",
    "karakterpoeng"
   ]
  },
  {
   "cell_type": "code",
   "execution_count": null,
   "id": "48409c03-b132-47e2-ad0d-37be44a784be",
   "metadata": {
    "tags": []
   },
   "outputs": [],
   "source": [
    "karakterpoeng = apidata_all(\"07495\", include_id=True)\n",
    "karakterpoeng"
   ]
  },
  {
   "cell_type": "code",
   "execution_count": null,
   "id": "99cf7cd8-8af5-4ba6-a545-977bf009658a",
   "metadata": {
    "jupyter": {
     "source_hidden": true
    },
    "tags": []
   },
   "outputs": [],
   "source": [
    "# Med query fra nettsiden\n",
    "query = {\n",
    "  \"query\": [\n",
    "    {\n",
    "      \"code\": \"Region\",\n",
    "      \"selection\": {\n",
    "        \"filter\": \"vs:Landet\",\n",
    "        \"values\": [\n",
    "          \"0\",\n",
    "        ],\n",
    "      },\n",
    "    },\n",
    "    {\n",
    "      \"code\": \"Kjonn\",\n",
    "      \"selection\": {\n",
    "        \"filter\": \"item\",\n",
    "        \"values\": [\n",
    "          \"10\",\n",
    "          \"11\",\n",
    "        ],\n",
    "      },\n",
    "    },\n",
    "    {\n",
    "      \"code\": \"ForeldrUtd\",\n",
    "      \"selection\": {\n",
    "        \"filter\": \"item\",\n",
    "        \"values\": [\n",
    "          \"00\",\n",
    "        ],\n",
    "      },\n",
    "    },\n",
    "    {\n",
    "      \"code\": \"ContentsCode\",\n",
    "      \"selection\": {\n",
    "        \"filter\": \"item\",\n",
    "        \"values\": [\n",
    "          \"Grunnskolepoeng\",\n",
    "        ],\n",
    "      },\n",
    "    },\n",
    "    {\n",
    "      \"code\": \"Tid\",\n",
    "      \"selection\": {\n",
    "        \"filter\": \"item\",\n",
    "        \"values\": [\n",
    "          \"2022\",\n",
    "        ],\n",
    "      },\n",
    "    },\n",
    "  ],\n",
    "  \"response\": {\n",
    "    \"format\": \"json-stat2\",\n",
    "  },\n",
    "}"
   ]
  },
  {
   "cell_type": "code",
   "execution_count": null,
   "id": "db679ddf-dd8e-4907-b7ca-376267d0ec0c",
   "metadata": {
    "tags": []
   },
   "outputs": [],
   "source": [
    "apidata(\"07495\", query, include_id=True)"
   ]
  }
 ],
 "metadata": {
  "language_info": {
   "codemirror_mode": {
    "name": "ipython"
   },
   "file_extension": ".py",
   "mimetype": "text/x-python",
   "name": "python",
   "nbconvert_exporter": "python"
  }
 },
 "nbformat": 4,
 "nbformat_minor": 5
}
