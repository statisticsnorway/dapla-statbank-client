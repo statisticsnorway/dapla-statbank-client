{
 "cells": [
  {
   "cell_type": "code",
   "execution_count": null,
   "id": "4badaf79-1952-473c-a2a9-736dca97ca5b",
   "metadata": {
    "tags": []
   },
   "outputs": [],
   "source": [
    "from statbank import StatbankClient\n",
    "import pandas as pd\n",
    "import dapla as dp\n",
    "from io import StringIO\n",
    "\n",
    "fileclient = dp.FileClient()\n",
    "statclient = StatbankClient(\"LAST413\")"
   ]
  },
  {
   "cell_type": "code",
   "execution_count": null,
   "id": "73a7f889-7a04-43f9-959f-13258f464d18",
   "metadata": {
    "tags": []
   },
   "outputs": [],
   "source": [
    "df_stat = statclient.apidata(\"11721\", {\n",
    "  \"query\": [\n",
    "    {\n",
    "      \"code\": \"Tid\",\n",
    "      \"selection\": {\n",
    "        \"filter\": \"item\",\n",
    "        \"values\": [\n",
    "          \"2022M10\",\n",
    "        ],\n",
    "      },\n",
    "    },\n",
    "  ],\n",
    "  \"response\": {\n",
    "    \"format\": \"json-stat2\",\n",
    "  },\n",
    "}, include_id=True).drop(columns=[\"makrostørrelse\", \"statistikkvariabel\"])\n",
    "col_order = df_stat[\"ContentsCode\"].unique().tolist()\n",
    "mnr = df_stat.pivot_table(values=\"value\", columns=\"ContentsCode\", index=[\"Makrost\", \"måned\"])\n",
    "mnr = mnr[col_order].reset_index()\n",
    "#mnr"
   ]
  },
  {
   "cell_type": "code",
   "execution_count": null,
   "id": "5e198e02-b28f-4078-b480-73c4ddcabca7",
   "metadata": {
    "tags": []
   },
   "outputs": [],
   "source": [
    "desc = statclient.get_description(\"11721\")"
   ]
  },
  {
   "cell_type": "code",
   "execution_count": null,
   "id": "654ef935-0edb-4f09-966f-67190f947926",
   "metadata": {},
   "outputs": [],
   "source": [
    "total_cols = (len(desc.variables[0][\"variabler\"]) +\n",
    "len(desc.variables[0][\"statistikkvariabler\"]) +\n",
    "len(desc.variables[0][\"null_prikk_missing\"]))\n",
    "if len(mnr.columns) != total_cols:\n",
    "    for colnum in range(total_cols - len(mnr.columns)):\n",
    "        mnr[f\"prikkecol_{colnum+1}\"] = \"\"\n",
    "#mnr"
   ]
  },
  {
   "cell_type": "code",
   "execution_count": null,
   "id": "e7818398-0eb9-4eeb-b4d7-986be15bd703",
   "metadata": {},
   "outputs": [],
   "source": [
    "data = desc.transferdata_template(mnr)"
   ]
  },
  {
   "cell_type": "code",
   "execution_count": null,
   "id": "2975f719-eeaf-4818-8ca1-d64597d96e81",
   "metadata": {},
   "outputs": [],
   "source": [
    "data = desc.round_data(data)"
   ]
  },
  {
   "cell_type": "code",
   "execution_count": null,
   "id": "6332734c-6928-4f7c-bc05-0f7f32052dcf",
   "metadata": {
    "tags": []
   },
   "outputs": [],
   "source": [
    "data[\"knrmakrohovmnd1.dat\"]"
   ]
  },
  {
   "cell_type": "code",
   "execution_count": null,
   "id": "a9634653-a3b9-441f-95f8-45045a130ff1",
   "metadata": {},
   "outputs": [],
   "source": [
    "errors = statclient.validate(data, \"11721\")"
   ]
  },
  {
   "cell_type": "code",
   "execution_count": null,
   "id": "315fc925-d0e4-45d1-9f79-acc549ef6421",
   "metadata": {},
   "outputs": [],
   "source": [
    "list(errors.keys())"
   ]
  },
  {
   "cell_type": "code",
   "execution_count": null,
   "id": "8cfbbbb2-2622-4347-9160-3f8c7b4f00b6",
   "metadata": {},
   "outputs": [],
   "source": [
    "statclient.transfer(data, \"11721\")"
   ]
  }
 ],
 "metadata": {
  "language_info": {
   "codemirror_mode": {
    "name": "ipython"
   },
   "file_extension": ".py",
   "mimetype": "text/x-python",
   "name": "python",
   "nbconvert_exporter": "python"
  }
 },
 "nbformat": 4,
 "nbformat_minor": 5
}
