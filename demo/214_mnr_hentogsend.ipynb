{
 "cells": [
  {
   "cell_type": "code",
   "execution_count": null,
   "id": "0",
   "metadata": {
    "tags": []
   },
   "outputs": [],
   "source": [
    "from statbank import StatbankClient\n",
    "import pandas as pd\n",
    "import dapla as dp\n",
    "from io import StringIO\n",
    "\n",
    "fileclient = dp.FileClient()\n",
    "statclient = StatbankClient()"
   ]
  },
  {
   "cell_type": "code",
   "execution_count": null,
   "id": "1",
   "metadata": {
    "tags": []
   },
   "outputs": [],
   "source": [
    "df_stat = statclient.apidata(\"11721\", {\n",
    "  \"query\": [\n",
    "    {\n",
    "      \"code\": \"Tid\",\n",
    "      \"selection\": {\n",
    "        \"filter\": \"item\",\n",
    "        \"values\": [\n",
    "          \"2022M10\",\n",
    "        ],\n",
    "      },\n",
    "    },\n",
    "  ],\n",
    "  \"response\": {\n",
    "    \"format\": \"json-stat2\",\n",
    "  },\n",
    "}, include_id=True).drop(columns=[\"makrostørrelse\", \"statistikkvariabel\"])\n",
    "col_order = df_stat[\"ContentsCode\"].unique().tolist()\n",
    "mnr = df_stat.pivot_table(values=\"value\", columns=\"ContentsCode\", index=[\"Makrost\", \"måned\"])\n",
    "mnr = mnr[col_order].reset_index()\n",
    "#mnr"
   ]
  },
  {
   "cell_type": "code",
   "execution_count": null,
   "id": "2",
   "metadata": {
    "tags": []
   },
   "outputs": [],
   "source": [
    "desc = statclient.get_description(\"11721\")"
   ]
  },
  {
   "cell_type": "code",
   "execution_count": null,
   "id": "3",
   "metadata": {},
   "outputs": [],
   "source": [
    "total_cols = (len(desc.variables[0][\"variabler\"]) +\n",
    "len(desc.variables[0][\"statistikkvariabler\"]) +\n",
    "len(desc.variables[0][\"null_prikk_missing\"]))\n",
    "if len(mnr.columns) != total_cols:\n",
    "    for colnum in range(total_cols - len(mnr.columns)):\n",
    "        mnr[f\"prikkecol_{colnum+1}\"] = \"\"\n",
    "#mnr"
   ]
  },
  {
   "cell_type": "code",
   "execution_count": null,
   "id": "4",
   "metadata": {},
   "outputs": [],
   "source": [
    "data = desc.transferdata_template(mnr)"
   ]
  },
  {
   "cell_type": "code",
   "execution_count": null,
   "id": "5",
   "metadata": {},
   "outputs": [],
   "source": [
    "data = desc.round_data(data)"
   ]
  },
  {
   "cell_type": "code",
   "execution_count": null,
   "id": "6",
   "metadata": {
    "tags": []
   },
   "outputs": [],
   "source": [
    "data[\"knrmakrohovmnd1.dat\"]"
   ]
  },
  {
   "cell_type": "code",
   "execution_count": null,
   "id": "7",
   "metadata": {},
   "outputs": [],
   "source": [
    "errors = statclient.validate(data, \"11721\")"
   ]
  },
  {
   "cell_type": "code",
   "execution_count": null,
   "id": "8",
   "metadata": {},
   "outputs": [],
   "source": [
    "list(errors.keys())"
   ]
  },
  {
   "cell_type": "code",
   "execution_count": null,
   "id": "9",
   "metadata": {},
   "outputs": [],
   "source": [
    "statclient.transfer(data, \"11721\")"
   ]
  }
 ],
 "metadata": {
  "language_info": {
   "codemirror_mode": {
    "name": "ipython"
   },
   "file_extension": ".py",
   "mimetype": "text/x-python",
   "name": "python",
   "nbconvert_exporter": "python"
  }
 },
 "nbformat": 4,
 "nbformat_minor": 5
}
