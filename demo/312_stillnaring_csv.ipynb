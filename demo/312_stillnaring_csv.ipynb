{
 "cells": [
  {
   "cell_type": "code",
   "execution_count": null,
   "id": "81f8e595-1665-41f7-865a-df605eeb95eb",
   "metadata": {
    "tags": []
   },
   "outputs": [],
   "source": [
    "import pandas as pd\n",
    "from statbank import StatbankClient"
   ]
  },
  {
   "cell_type": "code",
   "execution_count": null,
   "id": "fc4ab1b2-bbff-427d-9b87-9813e633d8bc",
   "metadata": {
    "tags": []
   },
   "outputs": [],
   "source": [
    "client=StatbankClient(\"Last312\")"
   ]
  },
  {
   "cell_type": "code",
   "execution_count": null,
   "id": "f6fa25f3-65b9-4b06-9fed-5d1697ad41b6",
   "metadata": {
    "tags": []
   },
   "outputs": [],
   "source": [
    "uttrekk = client.get_description(\"08771\")"
   ]
  },
  {
   "cell_type": "code",
   "execution_count": null,
   "id": "3d37c487-0d07-4b4f-9b60-57f41f3b761b",
   "metadata": {
    "tags": []
   },
   "outputs": [],
   "source": [
    "uttrekk.transferdata_template()"
   ]
  },
  {
   "cell_type": "code",
   "execution_count": null,
   "id": "2abd9751-ba95-4cd2-85c9-07bb01c66fd7",
   "metadata": {
    "tags": []
   },
   "outputs": [],
   "source": [
    "csv_data = pd.read_csv(\"stillnaring.csv\", sep=\";\", header=None, index_col=0)\n",
    "csv_data"
   ]
  },
  {
   "cell_type": "code",
   "execution_count": null,
   "id": "1fe8e477-7b8b-463d-b1e2-967a702620cd",
   "metadata": {
    "tags": []
   },
   "outputs": [],
   "source": [
    "csv_data[4] = csv_data[4].str.replace(\",\",\".\", regex=False).astype(float)\n",
    "csv_data[6] = csv_data[6].str.replace(\",\",\".\", regex=False).astype(float)\n",
    "csv_data = csv_data.fillna(\"\")"
   ]
  },
  {
   "cell_type": "code",
   "execution_count": null,
   "id": "e6ffbed2-8190-4414-8bed-a8e29284c773",
   "metadata": {
    "tags": []
   },
   "outputs": [],
   "source": [
    "csv_data.dtypes"
   ]
  },
  {
   "cell_type": "code",
   "execution_count": null,
   "id": "7b776a27-aa6c-4355-ada6-3e6b05dc8400",
   "metadata": {
    "tags": []
   },
   "outputs": [],
   "source": [
    "data = {\"stillnaring1.dat\": csv_data}\n",
    "data = uttrekk.round_data(data)"
   ]
  },
  {
   "cell_type": "code",
   "execution_count": null,
   "id": "05b07569-248c-4375-84c7-dac292c7b5af",
   "metadata": {
    "tags": []
   },
   "outputs": [],
   "source": [
    "transfer_result = client.transfer(data, \"08771\")"
   ]
  }
 ],
 "metadata": {
  "language_info": {
   "codemirror_mode": {
    "name": "ipython"
   },
   "file_extension": ".py",
   "mimetype": "text/x-python",
   "name": "python",
   "nbconvert_exporter": "python"
  }
 },
 "nbformat": 4,
 "nbformat_minor": 5
}
