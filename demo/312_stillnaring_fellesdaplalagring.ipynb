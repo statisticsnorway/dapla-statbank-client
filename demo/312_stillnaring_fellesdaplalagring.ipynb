{
 "cells": [
  {
   "cell_type": "code",
   "execution_count": null,
   "id": "c4f2ecfc",
   "metadata": {
    "tags": []
   },
   "outputs": [],
   "source": [
    "import dapla as dp\n",
    "import pandas as pd\n",
    "from statbank import StatbankClient"
   ]
  },
  {
   "cell_type": "code",
   "execution_count": null,
   "id": "f8aec733",
   "metadata": {
    "tags": []
   },
   "outputs": [],
   "source": [
    "fileclient = dp.FileClient()\n",
    "statclient = StatbankClient(\"LAST312\")"
   ]
  },
  {
   "cell_type": "code",
   "execution_count": null,
   "id": "b372e5b7",
   "metadata": {
    "tags": []
   },
   "outputs": [],
   "source": [
    "stillnaring_path = \"gs://ssb-staging-dapla-felles-data-delt/dapla-statbank-client-testing/08771_stillnaring1_seksjon312.txt\""
   ]
  },
  {
   "cell_type": "code",
   "execution_count": null,
   "id": "5942dab5",
   "metadata": {
    "tags": []
   },
   "outputs": [],
   "source": [
    "with fileclient.gcs_open(stillnaring_path, \"r\") as stillnaring_fil:\n",
    "    stillnaring = pd.read_csv(stillnaring_fil, sep=\";\", header=None)\n",
    "stillnaring = stillnaring.fillna(\"\")"
   ]
  },
  {
   "cell_type": "code",
   "execution_count": null,
   "id": "6822431d",
   "metadata": {
    "tags": []
   },
   "outputs": [],
   "source": [
    "stillnaring.info()"
   ]
  },
  {
   "cell_type": "code",
   "execution_count": null,
   "id": "28abb8f8",
   "metadata": {
    "tags": []
   },
   "outputs": [],
   "source": [
    "stillnaring.head()"
   ]
  },
  {
   "cell_type": "code",
   "execution_count": null,
   "id": "dda2e0d2",
   "metadata": {
    "tags": []
   },
   "outputs": [],
   "source": [
    "desc = statclient.get_description(\"08771\")"
   ]
  },
  {
   "cell_type": "code",
   "execution_count": null,
   "id": "6bcdb93c",
   "metadata": {
    "tags": []
   },
   "outputs": [],
   "source": [
    "#desc.variables"
   ]
  },
  {
   "cell_type": "code",
   "execution_count": null,
   "id": "94af6dee",
   "metadata": {
    "tags": []
   },
   "outputs": [],
   "source": [
    "desc.transferdata_template()"
   ]
  },
  {
   "cell_type": "code",
   "execution_count": null,
   "id": "6946199c",
   "metadata": {
    "tags": []
   },
   "outputs": [],
   "source": [
    "validate_result = statclient.validate({\"stillnaring1.dat\" : stillnaring}, \"08771\")"
   ]
  },
  {
   "cell_type": "code",
   "execution_count": null,
   "id": "b380d6f8",
   "metadata": {
    "tags": []
   },
   "outputs": [],
   "source": [
    "transfer_result = statclient.transfer({\"stillnaring1.dat\" : stillnaring}, \"08771\")"
   ]
  },
  {
   "cell_type": "code",
   "execution_count": null,
   "id": "1b988589",
   "metadata": {
    "tags": []
   },
   "outputs": [],
   "source": [
    "print(transfer_result)"
   ]
  },
  {
   "cell_type": "markdown",
   "id": "9bc25130-3869-4ec3-982c-417daba1488a",
   "metadata": {},
   "source": [
    "### Det ligger mye interssant i resultatet av overføringen"
   ]
  },
  {
   "cell_type": "code",
   "execution_count": null,
   "id": "83cd2bed-bcc4-4845-be13-fa2ed69dda6b",
   "metadata": {
    "tags": []
   },
   "outputs": [],
   "source": [
    "transfer_result.oppdragsnummer"
   ]
  },
  {
   "cell_type": "code",
   "execution_count": null,
   "id": "550e3d3d-3b8a-44e9-80ed-2e412c0111dc",
   "metadata": {
    "tags": []
   },
   "outputs": [],
   "source": [
    "transfer_result.response.text"
   ]
  }
 ],
 "metadata": {
  "language_info": {
   "codemirror_mode": {
    "name": "ipython"
   },
   "file_extension": ".py",
   "mimetype": "text/x-python",
   "name": "python",
   "nbconvert_exporter": "python"
  }
 },
 "nbformat": 4,
 "nbformat_minor": 5
}
