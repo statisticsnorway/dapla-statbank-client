{
 "cells": [
  {
   "cell_type": "code",
   "execution_count": null,
   "id": "354dbc82-4a4d-41e4-a89a-a58d70fc709b",
   "metadata": {
    "tags": []
   },
   "outputs": [],
   "source": [
    "from statbank.auth import StatbankAuth"
   ]
  },
  {
   "cell_type": "code",
   "execution_count": null,
   "id": "b73970a3-b22f-4ab5-a3bd-635d692b07b2",
   "metadata": {
    "tags": []
   },
   "outputs": [],
   "source": [
    "StatbankAuth()._build_user_agent()"
   ]
  }
 ],
 "metadata": {
  "language_info": {
   "codemirror_mode": {
    "name": "ipython"
   },
   "file_extension": ".py",
   "mimetype": "text/x-python",
   "name": "python",
   "nbconvert_exporter": "python"
  }
 },
 "nbformat": 4,
 "nbformat_minor": 5
}
