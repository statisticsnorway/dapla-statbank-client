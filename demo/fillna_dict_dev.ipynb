{
 "cells": [
  {
   "cell_type": "code",
   "execution_count": null,
   "id": "6606ec68-0265-4253-9a58-31fdecf5653d",
   "metadata": {
    "tags": []
   },
   "outputs": [],
   "source": [
    "import pandas as pd\n",
    "\n",
    "from statbank import StatbankClient"
   ]
  },
  {
   "cell_type": "markdown",
   "id": "d843bc4e-2703-4563-b539-4e7ca4e7b7c8",
   "metadata": {},
   "source": [
    "### Create client"
   ]
  },
  {
   "cell_type": "code",
   "execution_count": null,
   "id": "e03529d8-b5a4-493c-87a9-5f7f7d00e1a6",
   "metadata": {
    "tags": []
   },
   "outputs": [],
   "source": [
    "client = StatbankClient()"
   ]
  },
  {
   "cell_type": "code",
   "execution_count": null,
   "id": "cf9f0b9d-48ac-4ec8-9e7e-0f2df4443320",
   "metadata": {
    "tags": []
   },
   "outputs": [],
   "source": [
    "print(client)"
   ]
  },
  {
   "cell_type": "markdown",
   "id": "f9c10515-ad8f-43b8-930c-952e0a15098f",
   "metadata": {
    "tags": []
   },
   "source": [
    "### Get description"
   ]
  },
  {
   "cell_type": "code",
   "execution_count": null,
   "id": "6c33c3c6-6a23-4beb-8c4b-edf141e2bc3f",
   "metadata": {
    "tags": []
   },
   "outputs": [],
   "source": [
    "filbeskrivelse_07495 = client.get_description(tableid=\"07495\")"
   ]
  },
  {
   "cell_type": "code",
   "execution_count": null,
   "id": "d7a8e2a2-882d-45d4-bd63-9dbd1932d94f",
   "metadata": {
    "tags": []
   },
   "outputs": [],
   "source": [
    "result = {}\n",
    "for name, kodeliste in filbeskrivelse_07495.codelists.items():\n",
    "    if \"SumIALtTotalKode\" in list(kodeliste.keys()):\n",
    "        result[name] = kodeliste[\"SumIALtTotalKode\"]\n",
    "result"
   ]
  },
  {
   "cell_type": "code",
   "execution_count": null,
   "id": "9fbd3cc0-2b89-408b-9ac2-d75ebab3a50b",
   "metadata": {
    "tags": []
   },
   "outputs": [],
   "source": [
    "len(result)"
   ]
  },
  {
   "cell_type": "code",
   "execution_count": null,
   "id": "6e29ea7e-a47a-4c78-9141-074345619dff",
   "metadata": {
    "tags": []
   },
   "outputs": [],
   "source": [
    "from datetime import datetime\n",
    "\n",
    "filbesk_tid = datetime.strptime(filbeskrivelse_07495.time_retrieved.split(\" \")[0], \"%d.%m.%Y\")\n",
    "if filbesk_tid.year != datetime.now().year:\n",
    "    raise ValueError(\"Filbeskrivelsen er fra i fjor, hent den på nytt.\")"
   ]
  },
  {
   "cell_type": "markdown",
   "id": "68217364-31b6-48f3-b71b-66c32bf0afe7",
   "metadata": {
    "tags": []
   },
   "source": [
    "### Load data"
   ]
  },
  {
   "cell_type": "code",
   "execution_count": null,
   "id": "2b787de4-22b5-4cf2-af77-75ba915efe0a",
   "metadata": {},
   "outputs": [],
   "source": [
    "df_07495_fylker = pd.read_parquet(\"07495_statbank_fylker.parquet\")\n",
    "df_07495_landet = pd.read_parquet(\"07495_statbank_landet.parquet\")"
   ]
  },
  {
   "cell_type": "code",
   "execution_count": null,
   "id": "b4b8e239-2e7f-45c0-b38f-1154177ca9a9",
   "metadata": {},
   "outputs": [],
   "source": [
    "filbeskrivelse_07495.transferdata_template(df_07495_fylker, df_07495_landet)"
   ]
  },
  {
   "cell_type": "code",
   "execution_count": null,
   "id": "ce3a3ac4-f36b-4b74-ae76-bbe5e54468de",
   "metadata": {},
   "outputs": [],
   "source": [
    "data_07495 = {\"kargrs01fylker1.dat\": df_07495_fylker,\n",
    "              \"kargrs01landet1.dat\": df_07495_landet}"
   ]
  },
  {
   "cell_type": "markdown",
   "id": "d696ba7e-1c12-4322-8d45-b4715bf25e2f",
   "metadata": {},
   "source": [
    "### Validate data"
   ]
  },
  {
   "cell_type": "code",
   "execution_count": null,
   "id": "b56ce312-b634-443e-882f-d0e9231e5f9a",
   "metadata": {},
   "outputs": [],
   "source": [
    "resultat_validering = filbeskrivelse_07495.validate(data_07495)"
   ]
  },
  {
   "cell_type": "markdown",
   "id": "0d8ab0cf-a9dc-488b-acac-557aabb5641f",
   "metadata": {},
   "source": [
    "### Round data"
   ]
  },
  {
   "cell_type": "code",
   "execution_count": null,
   "id": "1f2d7ffd-ad4d-4e8b-9828-8350e493e19b",
   "metadata": {},
   "outputs": [],
   "source": [
    "data_07495[\"kargrs01fylker1.dat\"]"
   ]
  },
  {
   "cell_type": "code",
   "execution_count": null,
   "id": "723e0186-0bc3-40f2-ac6c-5867a080c4d8",
   "metadata": {},
   "outputs": [],
   "source": [
    "1.5\n",
    "2\n",
    "\n",
    "2.50000000\n",
    "2"
   ]
  },
  {
   "cell_type": "code",
   "execution_count": null,
   "id": "d56a8b78-ea27-4d67-b030-ccf9868c0cd6",
   "metadata": {},
   "outputs": [],
   "source": [
    "data_07495 = filbeskrivelse_07495.round_data(data_07495)"
   ]
  },
  {
   "cell_type": "markdown",
   "id": "8550bf8c-c9f8-4c9e-a46b-40fa3a670387",
   "metadata": {
    "tags": []
   },
   "source": [
    "### Transfer (actually sending the data)"
   ]
  },
  {
   "cell_type": "code",
   "execution_count": null,
   "id": "c1492a81-2d1b-4947-a78e-749095e096a6",
   "metadata": {},
   "outputs": [],
   "source": [
    "transfer_07495 = client.transfer(data_07495, \"07495\")"
   ]
  }
 ],
 "metadata": {
  "language_info": {
   "codemirror_mode": {
    "name": "ipython"
   },
   "file_extension": ".py",
   "mimetype": "text/x-python",
   "name": "python",
   "nbconvert_exporter": "python"
  }
 },
 "nbformat": 4,
 "nbformat_minor": 5
}
